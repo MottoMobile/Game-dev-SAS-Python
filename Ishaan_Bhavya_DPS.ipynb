{
 "cells": [
  {
   "cell_type": "code",
   "execution_count": 82,
   "metadata": {},
   "outputs": [],
   "source": [
    "import sys\n",
    "if \"Tkinter\" not in sys.modules:\n",
    "\n",
    "    from tkinter import *\n",
    "    import tkinter as tk\n",
    "    import tkinter.messagebox\n",
    "    root=Tk()\n",
    "    root.geometry('1920x1080')\n",
    "    root.config(border=100, borderwidth=1)\n",
    "\n",
    "    my_canvas=Canvas(root, width=1920, height=1080, bg='white')\n",
    "    my_canvas.pack()\n",
    "    b1 = Button(root, text='PLAY!',\n",
    "                background='grey' ,\n",
    "                activeforeground='black', \n",
    "                activebackground='yellow', pady=20, padx=120,\n",
    "                font=('Times New Roman',20,'bold'),\n",
    "                command=lambda: [b1.place(relx=0.5, rely=0.1), b1.config(text='Submit!')])\n",
    "    b1['command']=write_slogan\n",
    "\n",
    "    \n",
    "\n",
    "    render = None\n",
    "    def write_slogan():\n",
    "        # get image and display\n",
    "        image = PhotoImage(file =r\"c:\\users\\ishaa\\pictures\\Autism Meme.png\")\n",
    "        imageLabel.config(image = image)\n",
    "        imageLabel.image = image\n",
    "        slogan.destroy()\n",
    "        b1.place(relx=0.5, rely=0.1)\n",
    "        b1.config(text='Submit!')  \n",
    "\n",
    "    b1.pack()\n",
    "    b1.place(relx=0.5, rely=0.7, anchor=CENTER)\n",
    "\n",
    "    slogan = Button(root\n",
    "                        )\n",
    "                        #command= slogan.destroy())\n",
    "    slogan.place(relx=0.5,rely=0.7, anchor=CENTER)\n",
    "    slogan['command']=write_slogan\n",
    "    slogan.pack()\n",
    "    imageLabel = Label(my_canvas)\n",
    "    imageLabel.pack()\n",
    "    \n",
    "    \n",
    "    #def move(e):\n",
    "     #   global img\n",
    "      #  img = PhotoImage(file=r\"c:\\users\\ishaa\\pictures\\Autism Meme.png\")\n",
    "      #  my_image=my_canvas.create_image(e.x,e.y, image=img)\n",
    "\n",
    "    #root.bind('<B1-Motion>', move)\n",
    "\n",
    "\n",
    "\n",
    "\n",
    "    root.mainloop()\n"
   ]
  },
  {
   "cell_type": "code",
   "execution_count": null,
   "metadata": {},
   "outputs": [
    {
     "ename": "FileNotFoundError",
     "evalue": "[WinError 3] The system cannot find the path specified: 'C:\\\\\\\\users\\\\\\\\ishaa\\\\\\\\deskroot\\\\\\\\english HHW\\\\\\\\export'",
     "output_type": "error",
     "traceback": [
      "\u001b[1;31m---------------------------------------------------------------------------\u001b[0m",
      "\u001b[1;31mFileNotFoundError\u001b[0m                         Traceback (most recent call last)",
      "Cell \u001b[1;32mIn[4], line 4\u001b[0m\n\u001b[0;32m      2\u001b[0m \u001b[39mimport\u001b[39;00m \u001b[39mrandom\u001b[39;00m \n\u001b[0;32m      3\u001b[0m path\u001b[39m=\u001b[39m\u001b[39mr\u001b[39m\u001b[39m\"\u001b[39m\u001b[39mC:\u001b[39m\u001b[39m\\\\\u001b[39;00m\u001b[39musers\u001b[39m\u001b[39m\\\\\u001b[39;00m\u001b[39mishaa\u001b[39m\u001b[39m\\\\\u001b[39;00m\u001b[39mdeskroot\u001b[39m\u001b[39m\\\\\u001b[39;00m\u001b[39menglish HHW\u001b[39m\u001b[39m\\\\\u001b[39;00m\u001b[39mexport\u001b[39m\u001b[39m\"\u001b[39m\n\u001b[1;32m----> 4\u001b[0m files\u001b[39m=\u001b[39mos\u001b[39m.\u001b[39;49mlistdir(path)\n\u001b[0;32m      5\u001b[0m d\u001b[39m=\u001b[39mrandom\u001b[39m.\u001b[39mchoice(files)\n\u001b[0;32m      6\u001b[0m \u001b[39m#os.startfile(\"C:\\\\users\\\\ishaa\\\\deskroot\\\\english HHW\\\\export\\\\{0}\".format(d))\u001b[39;00m\n",
      "\u001b[1;31mFileNotFoundError\u001b[0m: [WinError 3] The system cannot find the path specified: 'C:\\\\\\\\users\\\\\\\\ishaa\\\\\\\\deskroot\\\\\\\\english HHW\\\\\\\\export'"
     ]
    }
   ],
   "source": [
    "import os\n",
    "import random \n",
    "path=r\"C:\\\\users\\\\ishaa\\\\deskroot\\\\english HHW\\\\export\"\n",
    "files=os.listdir(path)\n",
    "d=random.choice(files)\n",
    "#os.startfile(\"C:\\\\users\\\\ishaa\\\\deskroot\\\\english HHW\\\\export\\\\{0}\".format(d))\n",
    "G = open(\"C:\\\\users\\\\ishaa\\\\deskroot\\\\english HHW\\\\export\\\\{0}\".format(d),'r')\n",
    "print(G.open)"
   ]
  },
  {
   "cell_type": "code",
   "execution_count": 10,
   "metadata": {},
   "outputs": [],
   "source": [
    "import tkinter as tk\n",
    "import tkinter.messagebox\n",
    "\n",
    "def btn_clicked():\n",
    "    tkinter.messagebox.showinfo(\"Login\",\"Login Success, Welcome!\")\n",
    "    b2 = tk.Button(\n",
    "        borderwidth = 0,\n",
    "        highlightthickness = 0,\n",
    "        command = btn_clicked,\n",
    "        relief = \"flat\"\n",
    "    )\n",
    "    b2.place(\n",
    "        x = 200, y = 200,\n",
    "        width = 213,\n",
    "        height = 72\n",
    "    )\n",
    "\n",
    "window = tk.Tk()\n",
    "\n",
    "window.geometry(\"1000x600\")\n",
    "window.configure(bg = \"#293335\")\n",
    "\n",
    "b1 = tk.Button(\n",
    "    borderwidth = 0,\n",
    "    highlightthickness = 0,\n",
    "    command = btn_clicked,\n",
    "    relief = \"flat\"\n",
    ")\n",
    "\n",
    "b1.place(\n",
    "    x = 5, y = 5,\n",
    "    width = 213,\n",
    "    height = 72\n",
    ")\n",
    "window.resizable(False, False)\n",
    "window.mainloop()"
   ]
  },
  {
   "cell_type": "code",
   "execution_count": null,
   "metadata": {},
   "outputs": [],
   "source": []
  }
 ],
 "metadata": {
  "kernelspec": {
   "display_name": "Python 3",
   "language": "python",
   "name": "python3"
  },
  "language_info": {
   "codemirror_mode": {
    "name": "ipython",
    "version": 3
   },
   "file_extension": ".py",
   "mimetype": "text/x-python",
   "name": "python",
   "nbconvert_exporter": "python",
   "pygments_lexer": "ipython3",
   "version": "3.11.4"
  },
  "orig_nbformat": 4
 },
 "nbformat": 4,
 "nbformat_minor": 2
}
